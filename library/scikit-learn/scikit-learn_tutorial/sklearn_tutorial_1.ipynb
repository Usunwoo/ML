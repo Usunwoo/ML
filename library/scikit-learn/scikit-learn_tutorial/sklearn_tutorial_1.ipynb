{
 "cells": [
  {
   "attachments": {},
   "cell_type": "markdown",
   "metadata": {},
   "source": [
    "# An introduction to machine learning with scikit-learn\n",
    "---\n",
    "\n",
    "## Machine learning: the problem setting\n",
    "---\n",
    "\n",
    "\n",
    "\n",
    "## Loading an example dataset"
   ]
  }
 ],
 "metadata": {
  "language_info": {
   "name": "python"
  },
  "orig_nbformat": 4
 },
 "nbformat": 4,
 "nbformat_minor": 2
}
